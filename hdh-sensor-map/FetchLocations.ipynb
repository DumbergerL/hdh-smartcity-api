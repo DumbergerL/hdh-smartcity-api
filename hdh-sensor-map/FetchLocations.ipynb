{
 "cells": [
  {
   "cell_type": "code",
   "execution_count": 1,
   "id": "be91c600-7a71-4475-a8e3-8a84610d5e14",
   "metadata": {},
   "outputs": [],
   "source": [
    "import json\n",
    "import csv\n",
    "from datetime import datetime\n",
    "from datetime import timedelta\n",
    "import requests"
   ]
  },
  {
   "cell_type": "code",
   "execution_count": 12,
   "id": "8113f805-22cd-45f2-ac25-02f64551d34b",
   "metadata": {},
   "outputs": [],
   "source": [
    "def collectUniqueGroupIdentifierWithType():\n",
    "    csvfile = open('../HDH-Entities.csv', encoding='utf8', errors='ignore');\n",
    "    csvReader = csv.reader(csvfile, delimiter=';')\n",
    "\n",
    "    returnObject = {};\n",
    "    \n",
    "    for row in csvReader:\n",
    "        groupIdentifier = row[2];\n",
    "        if groupIdentifier != \"GroupIdentifier\":\n",
    "            returnObject[groupIdentifier] = row[4];\n",
    "    csvfile.close()\n",
    "    return returnObject\n",
    "\n",
    "\n",
    "def fetchDataByGroupIdentifier(groupIdentifier, dateGte):\n",
    "    endpoint =  \"https://staging.dashboard.heidenheim.de/api/historical/?datetime__gte={0}&groupIdentifier={1}\".format(dateGte, groupIdentifier);\n",
    "    #return endpoint\n",
    "    response = requests.get(endpoint)\n",
    "    return response.json()\n"
   ]
  },
  {
   "cell_type": "code",
   "execution_count": 16,
   "id": "0557b9be-dde2-456c-bf78-f3534ac5a4e4",
   "metadata": {},
   "outputs": [
    {
     "name": "stdout",
     "output_type": "stream",
     "text": [
      "Object: {'b84fcd90-f870-4f75-8793-e7ba7526b07f': 'BycicleBox', 'c5cf1f80-bfcd-41fd-b874-1bf763a786c1': 'ParkingSensor', '4d56e281-b89b-4be2-9468-2e70ceb6d876': 'TrafficFrequency', 'd18db740-d364-43ff-86c7-9655d009a529': 'TrafficFrequency', '3d04bfd6-5f14-45bf-bc31-98deaef5ea54': 'TrashCan', '80a8b019-d29a-45f9-9546-d4bff59c3bee': 'WaterLevel', '78e89a84-b206-4b75-96a4-3aca3f722aa0': 'WeatherSensor', 'd005a790-eded-4cde-a090-06a55c3874d5': 'WeatherStation'}\n",
      "Keys: ['b84fcd90-f870-4f75-8793-e7ba7526b07f', 'c5cf1f80-bfcd-41fd-b874-1bf763a786c1', '4d56e281-b89b-4be2-9468-2e70ceb6d876', 'd18db740-d364-43ff-86c7-9655d009a529', '3d04bfd6-5f14-45bf-bc31-98deaef5ea54', '80a8b019-d29a-45f9-9546-d4bff59c3bee', '78e89a84-b206-4b75-96a4-3aca3f722aa0', 'd005a790-eded-4cde-a090-06a55c3874d5']\n",
      "Values: ['BycicleBox', 'ParkingSensor', 'TrafficFrequency', 'TrafficFrequency', 'TrashCan', 'WaterLevel', 'WeatherSensor', 'WeatherStation']\n"
     ]
    }
   ],
   "source": [
    "groupIdentifiers = collectUniqueGroupIdentifierWithType();\n",
    "print(\"Object:\", groupIdentifiers);\n",
    "print(\"Keys:\", list(groupIdentifiers.keys()));\n",
    "print(\"Values:\", list(groupIdentifiers.values()));"
   ]
  },
  {
   "cell_type": "code",
   "execution_count": 17,
   "id": "e6904db3-16a5-41b5-8717-83140060f261",
   "metadata": {},
   "outputs": [
    {
     "name": "stdout",
     "output_type": "stream",
     "text": [
      "2024-03-18T09:16:04.498Z\n"
     ]
    }
   ],
   "source": [
    "todayPlus5Days = (datetime.now() + timedelta(days=5) ).strftime('%Y-%m-%d')\n",
    "todayPlus5DaysInFormat = todayPlus5Days + \"T09:16:04.498Z\"\n",
    "print(todayPlus5DaysInFormat)"
   ]
  },
  {
   "cell_type": "code",
   "execution_count": 18,
   "id": "a9db427d-bad0-4853-8519-0dec4a2a2ba9",
   "metadata": {},
   "outputs": [],
   "source": [
    "entities = [];\n",
    "\n",
    "for groupIdentifier, type in groupIdentifiers.items():\n",
    "    response = fetchDataByGroupIdentifier(groupIdentifier, todayPlus5DaysInFormat)\n",
    "    for entity in response['data']:\n",
    "        entities.append({\n",
    "            'id': entity['id'],\n",
    "            'name': entity['name'],\n",
    "            'labelIdentifier': entity['labelIdentifier'],\n",
    "            'latitude': entity['latitude'],\n",
    "            'longitude': entity['longitude'],\n",
    "            'groupIdentifier': entity['groupIdentifier'],\n",
    "            'type': type\n",
    "        });"
   ]
  },
  {
   "cell_type": "code",
   "execution_count": 19,
   "id": "4e4116c4-11d8-4339-8357-58d18291a7b4",
   "metadata": {
    "scrolled": true
   },
   "outputs": [
    {
     "name": "stdout",
     "output_type": "stream",
     "text": [
      "[{'id': 'a5713e95-d456-4bc4-b150-710e455f433c', 'name': 'Heidenheim, Bahnhof, Sammelgarage', 'labelIdentifier': 'unit405', 'latitude': 48.67968, 'longitude': 10.156297, 'groupIdentifier': 'b84fcd90-f870-4f75-8793-e7ba7526b07f', 'type': 'BycicleBox'}]\n"
     ]
    }
   ],
   "source": [
    "print(entities[0:1]);"
   ]
  },
  {
   "cell_type": "code",
   "execution_count": 22,
   "id": "693e4730-4724-4f3d-a3f5-443914fa572a",
   "metadata": {},
   "outputs": [],
   "source": [
    "with open('location-data.json', 'w') as fp:\n",
    "    json.dump(entities, fp, indent=2)\n",
    "\n",
    "with open('location-data.js', 'w') as fp:\n",
    "    jsonData = json.dumps(entities, indent = 2)\n",
    "\n",
    "    fp.write(\"window.LOCATION_DATA = \" + jsonData)"
   ]
  }
 ],
 "metadata": {
  "kernelspec": {
   "display_name": "Python 3 (ipykernel)",
   "language": "python",
   "name": "python3"
  },
  "language_info": {
   "codemirror_mode": {
    "name": "ipython",
    "version": 3
   },
   "file_extension": ".py",
   "mimetype": "text/x-python",
   "name": "python",
   "nbconvert_exporter": "python",
   "pygments_lexer": "ipython3",
   "version": "3.12.1"
  }
 },
 "nbformat": 4,
 "nbformat_minor": 5
}
